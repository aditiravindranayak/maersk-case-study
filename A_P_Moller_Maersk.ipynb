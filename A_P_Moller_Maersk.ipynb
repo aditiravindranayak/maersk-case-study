{
  "nbformat": 4,
  "nbformat_minor": 0,
  "metadata": {
    "colab": {
      "provenance": []
    },
    "kernelspec": {
      "name": "python3",
      "display_name": "Python 3"
    },
    "language_info": {
      "name": "python"
    }
  },
  "cells": [
    {
      "cell_type": "markdown",
      "source": [
        "**Load Training and Testing Datasets**"
      ],
      "metadata": {
        "id": "wper53O-ugsQ"
      }
    },
    {
      "cell_type": "code",
      "source": [
        "import pandas as pd\n",
        "import numpy as np\n",
        "import matplotlib.pyplot as plt\n",
        "import seaborn as sns\n",
        "from sklearn.model_selection import train_test_split\n",
        "from sklearn.linear_model import LinearRegression\n",
        "from sklearn.ensemble import RandomForestRegressor\n",
        "from sklearn.metrics import mean_absolute_error, mean_squared_error\n",
        "import statsmodels.api as sm\n",
        "\n",
        "# Load training and testing datasets from Excel files\n",
        "train_df = pd.read_excel(\"/content/drive/MyDrive/Dataset/Training Dataset.xlsx\")\n",
        "test_df = pd.read_excel(\"/content/drive/MyDrive/Dataset/Testing Dataset.xlsx\")\n"
      ],
      "metadata": {
        "id": "WfAJYMlnfaUG"
      },
      "execution_count": 7,
      "outputs": []
    },
    {
      "cell_type": "markdown",
      "source": [
        "**Exploratory Data Analysis (EDA)**"
      ],
      "metadata": {
        "id": "VtmGysRUuf9Y"
      }
    },
    {
      "cell_type": "code",
      "source": [
        "# Display basic information about the datasets\n",
        "print(\"Training Data Info:\")\n",
        "print(train_df.info())\n",
        "print(\"\\nTesting Data Info:\")\n",
        "print(test_df.info())\n",
        "\n",
        "# Display descriptive statistics\n",
        "print(\"\\nTraining Data Description:\")\n",
        "print(train_df.describe())\n",
        "print(\"\\nTesting Data Description:\")\n",
        "print(test_df.describe())\n",
        "\n",
        "# Visualize distributions of features and target variable\n",
        "sns.pairplot(train_df)\n",
        "plt.show()"
      ],
      "metadata": {
        "colab": {
          "base_uri": "https://localhost:8080/",
          "height": 1000
        },
        "id": "RNA068YEffW-",
        "outputId": "8c573f9e-025c-4695-ddf5-c62c4f915600"
      },
      "execution_count": 8,
      "outputs": [
        {
          "output_type": "stream",
          "name": "stdout",
          "text": [
            "Training Data Info:\n",
            "<class 'pandas.core.frame.DataFrame'>\n",
            "RangeIndex: 550176 entries, 0 to 550175\n",
            "Data columns (total 8 columns):\n",
            " #   Column             Non-Null Count   Dtype         \n",
            "---  ------             --------------   -----         \n",
            " 0   ProductType        550176 non-null  object        \n",
            " 1   Manufacturer       550176 non-null  object        \n",
            " 2   Area Code          550176 non-null  object        \n",
            " 3   Sourcing Channel   550176 non-null  object        \n",
            " 4   Product Size       550176 non-null  object        \n",
            " 5   Product Type       550176 non-null  object        \n",
            " 6   Month of Sourcing  550176 non-null  datetime64[ns]\n",
            " 7   Sourcing Cost      550176 non-null  float64       \n",
            "dtypes: datetime64[ns](1), float64(1), object(6)\n",
            "memory usage: 33.6+ MB\n",
            "None\n",
            "\n",
            "Testing Data Info:\n",
            "<class 'pandas.core.frame.DataFrame'>\n",
            "RangeIndex: 96 entries, 0 to 95\n",
            "Data columns (total 8 columns):\n",
            " #   Column             Non-Null Count  Dtype         \n",
            "---  ------             --------------  -----         \n",
            " 0   ProductType        96 non-null     object        \n",
            " 1   Manufacturer       96 non-null     object        \n",
            " 2   Area Code          96 non-null     object        \n",
            " 3   Sourcing Channel   96 non-null     object        \n",
            " 4   Product Size       96 non-null     object        \n",
            " 5   Product Type       96 non-null     object        \n",
            " 6   Month of Sourcing  96 non-null     datetime64[ns]\n",
            " 7   Sourcing Cost      96 non-null     float64       \n",
            "dtypes: datetime64[ns](1), float64(1), object(6)\n",
            "memory usage: 6.1+ KB\n",
            "None\n",
            "\n",
            "Training Data Description:\n",
            "                   Month of Sourcing  Sourcing Cost\n",
            "count                         550176  550176.000000\n",
            "mean   2020-12-08 10:27:28.769848576     108.816793\n",
            "min              2020-07-01 00:00:00    -196.070000\n",
            "25%              2020-10-01 00:00:00      57.000000\n",
            "50%              2020-12-01 00:00:00     132.000000\n",
            "75%              2021-03-01 00:00:00     146.147000\n",
            "max              2021-05-01 00:00:00   32632.500000\n",
            "std                              NaN     104.390097\n",
            "\n",
            "Testing Data Description:\n",
            "         Month of Sourcing  Sourcing Cost\n",
            "count                   96      96.000000\n",
            "mean   2021-06-21 00:00:00     106.208021\n",
            "min    2021-06-21 00:00:00       4.140000\n",
            "25%    2021-06-21 00:00:00      59.662500\n",
            "50%    2021-06-21 00:00:00     117.245000\n",
            "75%    2021-06-21 00:00:00     144.915000\n",
            "max    2021-06-21 00:00:00     234.710000\n",
            "std                    NaN      52.359484\n"
          ]
        },
        {
          "output_type": "display_data",
          "data": {
            "text/plain": [
              "<Figure size 250x250 with 2 Axes>"
            ],
            "image/png": "[encoded data removed]"
          },
          "metadata": {}
        }
      ]
    },
    {
      "cell_type": "code",
      "source": [
        "# Step 1: Data Loading\n",
        "# Display the first few rows of the training and testing datasets to inspect the data\n",
        "print(\"Training Data Head:\")\n",
        "print(train_df.head())\n",
        "print(\"\\nTesting Data Head:\")\n",
        "print(test_df.head())\n",
        "\n",
        "# Step 2: Outlier Removal\n",
        "# Visualize the distribution of 'Sourcing Cost' before outlier removal to understand the data distribution\n",
        "sns.histplot(train_df['Sourcing Cost'], kde=True)\n",
        "plt.title(\"Distribution of Sourcing Cost (Before Outlier Removal)\")\n",
        "plt.show()\n",
        "\n",
        "# Check the number of samples before outlier removal\n",
        "print(\"Number of samples before outlier removal:\", train_df.shape[0])\n",
        "\n",
        "# Perform outlier removal\n",
        "train_df = train_df[(train_df['Sourcing Cost'] >= 0) & (train_df['Sourcing Cost'] <= train_df['Sourcing Cost'].quantile(0.99))]\n",
        "\n",
        "# Check the number of samples after outlier removal\n",
        "print(\"Number of samples after outlier removal:\", train_df.shape[0])\n",
        "\n",
        "# Step 3: Non-Numeric Value Handling\n",
        "# Check for non-numeric values in the 'Sourcing Cost' column\n",
        "non_numeric_values = train_df[~train_df['Sourcing Cost'].apply(lambda x: str(x).replace('.', '').isdigit())]['Sourcing Cost']\n",
        "print(\"Non-numeric values in 'Sourcing Cost' column:\", non_numeric_values)\n",
        "\n",
        "# Step 4: Missing Value Handling\n",
        "# Check for missing values in the dataset\n",
        "missing_values_train = train_df.isnull().sum()\n",
        "print(\"Missing Values in Training Data:\\n\", missing_values_train)\n",
        "\n",
        "# If there are missing values, handle them appropriately (e.g., imputation or removal)\n",
        "\n",
        "# Proceed with model training only if there are samples left after preprocessing\n",
        "if train_df.shape[0] > 0:\n",
        "    # Further preprocessing and model training steps\n",
        "    ...\n",
        "else:\n",
        "    print(\"No samples left in the training dataset after preprocessing.\")\n"
      ],
      "metadata": {
        "colab": {
          "base_uri": "https://localhost:8080/",
          "height": 1000
        },
        "id": "O_1f9e8CfkAy",
        "outputId": "b0623e1d-0f3e-4bd7-b074-414b6c9a7c25"
      },
      "execution_count": 9,
      "outputs": [
        {
          "output_type": "stream",
          "name": "stdout",
          "text": [
            "Training Data Head:\n",
            "  ProductType Manufacturer Area Code Sourcing Channel Product Size  \\\n",
            "0        NTM3           X1       A28        WHOLESALE        Large   \n",
            "1        NTM2           X1        A9           DIRECT        Large   \n",
            "2        NTM3           X2       A20           DIRECT        Large   \n",
            "3        NTM3           X1       A18        WHOLESALE        Small   \n",
            "4        NTM2           X1       A28           DIRECT        Large   \n",
            "\n",
            "  Product Type Month of Sourcing  Sourcing Cost  \n",
            "0       Powder        2021-05-01         10.158  \n",
            "1       Powder        2020-10-01        134.281  \n",
            "2       Powder        2020-12-01         12.456  \n",
            "3       Powder        2021-02-01        107.220  \n",
            "4       Liquid        2020-11-01        197.763  \n",
            "\n",
            "Testing Data Head:\n",
            "  ProductType Manufacturer Area Code Sourcing Channel Product Size  \\\n",
            "0        NTM1           X1        A1           DIRECT        Small   \n",
            "1        NTM1           X1       A10           DIRECT        Large   \n",
            "2        NTM1           X1       A10             ECOM        Large   \n",
            "3        NTM1           X1       A11           DIRECT        Large   \n",
            "4        NTM1           X1        A2           DIRECT        Large   \n",
            "\n",
            "  Product Type Month of Sourcing  Sourcing Cost  \n",
            "0       Powder        2021-06-21         103.68  \n",
            "1       Powder        2021-06-21         155.75  \n",
            "2       Powder        2021-06-21         143.02  \n",
            "3       Powder        2021-06-21         139.39  \n",
            "4       Powder        2021-06-21         169.42  \n"
          ]
        },
        {
          "output_type": "display_data",
          "data": {
            "text/plain": [
              "<Figure size 640x480 with 1 Axes>"
            ],
            "image/png": "[encoded data removed]"
          },
          "metadata": {}
        },
        {
          "output_type": "stream",
          "name": "stdout",
          "text": [
            "Number of samples before outlier removal: 550176\n",
            "Number of samples after outlier removal: 542569\n",
            "Non-numeric values in 'Sourcing Cost' column: 275       2.043504e-15\n",
            "287       3.413936e-15\n",
            "967       7.105427e-15\n",
            "1816      7.105427e-15\n",
            "2469      1.421085e-14\n",
            "              ...     \n",
            "549763    2.386980e-15\n",
            "549865    3.552714e-15\n",
            "550030    3.552714e-15\n",
            "550086    1.332268e-15\n",
            "550087    1.421085e-14\n",
            "Name: Sourcing Cost, Length: 2573, dtype: float64\n",
            "Missing Values in Training Data:\n",
            " ProductType          0\n",
            "Manufacturer         0\n",
            "Area Code            0\n",
            "Sourcing Channel     0\n",
            "Product Size         0\n",
            "Product Type         0\n",
            "Month of Sourcing    0\n",
            "Sourcing Cost        0\n",
            "dtype: int64\n"
          ]
        }
      ]
    },
    {
      "cell_type": "code",
      "source": [
        "# Convert 'Month of Sourcing' column to a consistent data type (e.g., string representation of month)\n",
        "X_train_encoded['Month of Sourcing'] = X_train_encoded['Month of Sourcing'].astype(str).str[:7]  # Extract YYYY-MM format\n",
        "X_test_encoded['Month of Sourcing'] = X_test_encoded['Month of Sourcing'].astype(str).str[:7]  # Extract YYYY-MM format\n"
      ],
      "metadata": {
        "id": "Z_cYdIJvkfjw"
      },
      "execution_count": 22,
      "outputs": []
    },
    {
      "cell_type": "markdown",
      "source": [
        "**RANDOM FOREST REGRESSOR MODEL**"
      ],
      "metadata": {
        "id": "ogLEDZkivnWd"
      }
    },
    {
      "cell_type": "code",
      "source": [
        "from sklearn.preprocessing import LabelEncoder\n",
        "\n",
        "\n",
        "# Initialize label encoder\n",
        "label_encoder = LabelEncoder()\n",
        "\n",
        "# Fit label encoder on concatenated training and testing data\n",
        "label_encoder.fit(pd.concat([X_train_encoded['Month of Sourcing'], X_test_encoded['Month of Sourcing']]))\n",
        "\n",
        "# Transform 'Month of Sourcing' column in both training and testing datasets\n",
        "X_train_encoded['Month of Sourcing'] = label_encoder.transform(X_train_encoded['Month of Sourcing'])\n",
        "X_test_encoded['Month of Sourcing'] = label_encoder.transform(X_test_encoded['Month of Sourcing'])\n",
        "\n",
        "# Initialize Random Forest Regressor model\n",
        "rf_model = RandomForestRegressor(random_state=42)\n",
        "\n",
        "# Fit the model on the training data\n",
        "rf_model.fit(X_train_encoded, y_train)\n",
        "\n",
        "# Make predictions on the testing data\n",
        "y_pred = rf_model.predict(X_test_encoded)\n",
        "\n",
        "# Evaluate the model\n",
        "mae = mean_absolute_error(y_test, y_pred)\n",
        "mse = mean_squared_error(y_test, y_pred)\n",
        "\n",
        "print(\"Mean Absolute Error (MAE):\", mae)\n",
        "print(\"Mean Squared Error (MSE):\", mse)\n"
      ],
      "metadata": {
        "colab": {
          "base_uri": "https://localhost:8080/"
        },
        "id": "-PXzNoJYjkps",
        "outputId": "7501349c-04b6-4700-f2b5-e568d0e89a1c"
      },
      "execution_count": 23,
      "outputs": [
        {
          "output_type": "stream",
          "name": "stdout",
          "text": [
            "Mean Absolute Error (MAE): 20.34197704356383\n",
            "Mean Squared Error (MSE): 1215.3815526879596\n"
          ]
        }
      ]
    },
    {
      "cell_type": "code",
      "source": [
        "from sklearn.metrics import r2_score\n",
        "\n",
        "# Calculate R-squared (R2) score\n",
        "r2 = r2_score(y_test, y_pred)\n",
        "print(\"R-squared score:\", r2)"
      ],
      "metadata": {
        "colab": {
          "base_uri": "https://localhost:8080/"
        },
        "id": "uYVei7kWlvdD",
        "outputId": "5df65c55-6e78-4d01-d8bf-dc390d961747"
      },
      "execution_count": 26,
      "outputs": [
        {
          "output_type": "stream",
          "name": "stdout",
          "text": [
            "R-squared score: 0.5520087255398178\n"
          ]
        }
      ]
    },
    {
      "cell_type": "markdown",
      "source": [
        "**LINEAR REGRESSION**"
      ],
      "metadata": {
        "id": "4rI7KDjGvzot"
      }
    },
    {
      "cell_type": "code",
      "source": [
        "from sklearn.linear_model import LinearRegression\n",
        "from sklearn.metrics import mean_absolute_error, mean_squared_error, r2_score\n",
        "\n",
        "# Initialize the Linear Regression model\n",
        "linear_reg_model = LinearRegression()\n",
        "\n",
        "# Fit the model to the training data\n",
        "linear_reg_model.fit(X_train_encoded, y_train)\n",
        "\n",
        "# Make predictions on the testing data\n",
        "y_pred_linear = linear_reg_model.predict(X_test_encoded)\n",
        "\n",
        "# Calculate evaluation metrics\n",
        "mae_linear = mean_absolute_error(y_test, y_pred_linear)\n",
        "mse_linear = mean_squared_error(y_test, y_pred_linear)\n",
        "r2_linear = r2_score(y_test, y_pred_linear)\n",
        "\n",
        "# Print evaluation metrics\n",
        "print(\"Linear Regression Evaluation Metrics:\")\n",
        "print(\"Mean Absolute Error (MAE):\", mae_linear)\n",
        "print(\"Mean Squared Error (MSE):\", mse_linear)\n",
        "print(\"R2 Score:\", r2_linear)\n"
      ],
      "metadata": {
        "colab": {
          "base_uri": "https://localhost:8080/"
        },
        "id": "cGCZs806nRpn",
        "outputId": "404434e5-bda0-4458-ae67-d0dc70a874c2"
      },
      "execution_count": 27,
      "outputs": [
        {
          "output_type": "stream",
          "name": "stdout",
          "text": [
            "Linear Regression Evaluation Metrics:\n",
            "Mean Absolute Error (MAE): 23.448924425661616\n",
            "Mean Squared Error (MSE): 1402.0128530091422\n",
            "R2 Score: 0.4832161773066017\n"
          ]
        }
      ]
    },
    {
      "cell_type": "code",
      "source": [
        "from sklearn.metrics import mean_squared_error\n",
        "import numpy as np\n",
        "\n",
        "# Calculate Mean Squared Error (MSE)\n",
        "mse = mean_squared_error(y_test, y_pred)\n",
        "\n",
        "# Calculate Root Mean Squared Error (RMSE)\n",
        "rmse = np.sqrt(mse)\n",
        "\n",
        "print(\"Root Mean Squared Error (RMSE):\", rmse)\n"
      ],
      "metadata": {
        "colab": {
          "base_uri": "https://localhost:8080/"
        },
        "id": "FPuYcYhjn-_y",
        "outputId": "c4227a39-5ce2-4d0c-eed9-0e247c3b350b"
      },
      "execution_count": 28,
      "outputs": [
        {
          "output_type": "stream",
          "name": "stdout",
          "text": [
            "Root Mean Squared Error (RMSE): 34.86232282404544\n"
          ]
        }
      ]
    },
    {
      "cell_type": "code",
      "source": [
        "# One-hot encode categorical variables in training and testing datasets\n",
        "X_train_encoded = pd.get_dummies(X_train)\n",
        "X_test_encoded = pd.get_dummies(X_test)\n",
        "\n",
        "# Ensure that both datasets have the same columns after one-hot encoding\n",
        "# This is important to maintain consistency in features between training and testing datasets\n",
        "X_train_encoded, X_test_encoded = X_train_encoded.align(X_test_encoded, join='outer', axis=1, fill_value=0)"
      ],
      "metadata": {
        "id": "f8PwKSbKjEg_"
      },
      "execution_count": 14,
      "outputs": []
    },
    {
      "cell_type": "code",
      "source": [
        "print(\"Data types in training dataset:\")\n",
        "print(X_train_encoded.dtypes)\n",
        "\n",
        "print(\"\\nData types in testing dataset:\")\n",
        "print(X_test_encoded.dtypes)\n"
      ],
      "metadata": {
        "colab": {
          "base_uri": "https://localhost:8080/"
        },
        "id": "ofrRulh_jTxm",
        "outputId": "81648444-2c29-4ed4-8e8c-3c0e560072fb"
      },
      "execution_count": 16,
      "outputs": [
        {
          "output_type": "stream",
          "name": "stdout",
          "text": [
            "Data types in training dataset:\n",
            "Month of Sourcing          datetime64[ns]\n",
            "ProductType_NTM1                     bool\n",
            "ProductType_NTM2                     bool\n",
            "ProductType_NTM3                     bool\n",
            "Manufacturer_X1                      bool\n",
            "                                ...      \n",
            "Product Size_ExtraLarge              bool\n",
            "Product Size_Large                   bool\n",
            "Product Size_Small                   bool\n",
            "Product Type_Liquid                  bool\n",
            "Product Type_Powder                  bool\n",
            "Length: 61, dtype: object\n",
            "\n",
            "Data types in testing dataset:\n",
            "Month of Sourcing          datetime64[ns]\n",
            "ProductType_NTM1                     bool\n",
            "ProductType_NTM2                     bool\n",
            "ProductType_NTM3                     bool\n",
            "Manufacturer_X1                      bool\n",
            "                                ...      \n",
            "Product Size_ExtraLarge              bool\n",
            "Product Size_Large                   bool\n",
            "Product Size_Small                   bool\n",
            "Product Type_Liquid                  bool\n",
            "Product Type_Powder                  bool\n",
            "Length: 61, dtype: object\n"
          ]
        }
      ]
    },
    {
      "cell_type": "markdown",
      "source": [
        "***The lower values of MAE, MSE, and the higher R-squared score indicate better performance of the Random Forest model over the Linear Regression model***"
      ],
      "metadata": {
        "id": "AdZ-mMRD5cqY"
      }
    }
  ]
}